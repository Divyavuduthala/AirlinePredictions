{
 "cells": [
  {
   "cell_type": "code",
   "execution_count": 1,
   "metadata": {
    "collapsed": false
   },
   "outputs": [
    {
     "data": {
      "text/html": [
       "<div>\n",
       "<table border=\"1\" class=\"dataframe\">\n",
       "  <thead>\n",
       "    <tr style=\"text-align: right;\">\n",
       "      <th></th>\n",
       "      <th>Month</th>\n",
       "      <th>DayofMonth</th>\n",
       "      <th>DayOfWeek</th>\n",
       "      <th>DepTime</th>\n",
       "      <th>CRSDepTime</th>\n",
       "      <th>UniqueCarrier</th>\n",
       "      <th>FlightNum</th>\n",
       "      <th>Distance</th>\n",
       "      <th>Dest</th>\n",
       "      <th>Cancelled</th>\n",
       "    </tr>\n",
       "  </thead>\n",
       "  <tbody>\n",
       "    <tr>\n",
       "      <th>33389</th>\n",
       "      <td>1</td>\n",
       "      <td>19</td>\n",
       "      <td>6</td>\n",
       "      <td>916.0</td>\n",
       "      <td>900</td>\n",
       "      <td>XE</td>\n",
       "      <td>1265</td>\n",
       "      <td>745</td>\n",
       "      <td>ATL</td>\n",
       "      <td>0</td>\n",
       "    </tr>\n",
       "    <tr>\n",
       "      <th>33865</th>\n",
       "      <td>1</td>\n",
       "      <td>16</td>\n",
       "      <td>3</td>\n",
       "      <td>2102.0</td>\n",
       "      <td>1739</td>\n",
       "      <td>XE</td>\n",
       "      <td>2622</td>\n",
       "      <td>689</td>\n",
       "      <td>ATL</td>\n",
       "      <td>0</td>\n",
       "    </tr>\n",
       "    <tr>\n",
       "      <th>34157</th>\n",
       "      <td>1</td>\n",
       "      <td>22</td>\n",
       "      <td>2</td>\n",
       "      <td>919.0</td>\n",
       "      <td>900</td>\n",
       "      <td>XE</td>\n",
       "      <td>2023</td>\n",
       "      <td>554</td>\n",
       "      <td>ATL</td>\n",
       "      <td>0</td>\n",
       "    </tr>\n",
       "    <tr>\n",
       "      <th>34365</th>\n",
       "      <td>1</td>\n",
       "      <td>1</td>\n",
       "      <td>2</td>\n",
       "      <td>1127.0</td>\n",
       "      <td>1035</td>\n",
       "      <td>XE</td>\n",
       "      <td>1221</td>\n",
       "      <td>745</td>\n",
       "      <td>ATL</td>\n",
       "      <td>0</td>\n",
       "    </tr>\n",
       "    <tr>\n",
       "      <th>34390</th>\n",
       "      <td>1</td>\n",
       "      <td>5</td>\n",
       "      <td>6</td>\n",
       "      <td>1733.0</td>\n",
       "      <td>1720</td>\n",
       "      <td>XE</td>\n",
       "      <td>2562</td>\n",
       "      <td>689</td>\n",
       "      <td>ATL</td>\n",
       "      <td>0</td>\n",
       "    </tr>\n",
       "  </tbody>\n",
       "</table>\n",
       "</div>"
      ],
      "text/plain": [
       "       Month  DayofMonth  DayOfWeek  DepTime  CRSDepTime UniqueCarrier  \\\n",
       "33389      1          19          6    916.0         900            XE   \n",
       "33865      1          16          3   2102.0        1739            XE   \n",
       "34157      1          22          2    919.0         900            XE   \n",
       "34365      1           1          2   1127.0        1035            XE   \n",
       "34390      1           5          6   1733.0        1720            XE   \n",
       "\n",
       "       FlightNum  Distance Dest  Cancelled  \n",
       "33389       1265       745  ATL          0  \n",
       "33865       2622       689  ATL          0  \n",
       "34157       2023       554  ATL          0  \n",
       "34365       1221       745  ATL          0  \n",
       "34390       2562       689  ATL          0  "
      ]
     },
     "execution_count": 1,
     "metadata": {},
     "output_type": "execute_result"
    }
   ],
   "source": [
    "%matplotlib inline\n",
    "import os\n",
    "# from subprocess import check_output\n",
    "import numpy as np\n",
    "import pandas as pd\n",
    "import matplotlib.pyplot as plt\n",
    "from sklearn.linear_model import LogisticRegression\n",
    "from sklearn.utils import shuffle\n",
    "from sklearn.model_selection import train_test_split\n",
    "# from sklearn.model_selection import GridSearchCV\n",
    "# from sklearn.model_selection import StratifiedShuffleSplit\n",
    "# from sklearn.pipeline import Pipeline\n",
    "# from sklearn.preprocessing import MinMaxScaler\n",
    "from sklearn.metrics import classification_report, f1_score, accuracy_score, confusion_matrix\n",
    "\n",
    "\n",
    "np.random.seed(42)\n",
    "\n",
    "data = pd.read_csv('flightData.csv')\n",
    "atl_data = data.loc[data['Dest'] == 'ATL']\n",
    "atl_data = pd.DataFrame(data=atl_data, columns=['Month','DayofMonth','DayOfWeek','DepTime','CRSDepTime','UniqueCarrier','FlightNum','Distance','Dest','Cancelled'])\n",
    "atl_data.head()"
   ]
  },
  {
   "cell_type": "code",
   "execution_count": 2,
   "metadata": {
    "collapsed": false
   },
   "outputs": [
    {
     "name": "stdout",
     "output_type": "stream",
     "text": [
      "(85518, 7) (21380, 7) (85518, 1) (21380, 1)\n"
     ]
    },
    {
     "data": {
      "text/plain": [
       "array([[  1.20000000e+01,   2.70000000e+01,   6.00000000e+00, ...,\n",
       "          1.44000000e+03,   1.86500000e+03,   9.46000000e+02],\n",
       "       [  1.10000000e+01,   9.00000000e+00,   7.00000000e+00, ...,\n",
       "          1.72000000e+03,   1.52800000e+03,   5.45000000e+02],\n",
       "       [  6.00000000e+00,   1.60000000e+01,   1.00000000e+00, ...,\n",
       "          1.52800000e+03,   6.70000000e+01,   5.33000000e+02],\n",
       "       ..., \n",
       "       [  3.00000000e+00,   5.00000000e+00,   3.00000000e+00, ...,\n",
       "          1.70000000e+03,   4.72800000e+03,   3.63000000e+02],\n",
       "       [  1.20000000e+01,   2.30000000e+01,   2.00000000e+00, ...,\n",
       "          1.21100000e+03,   1.18000000e+02,   4.06000000e+02],\n",
       "       [  2.00000000e+00,   7.00000000e+00,   4.00000000e+00, ...,\n",
       "          1.60000000e+03,   1.69900000e+03,   7.45000000e+02]])"
      ]
     },
     "execution_count": 2,
     "metadata": {},
     "output_type": "execute_result"
    }
   ],
   "source": [
    "#split training and testing data\n",
    "X = atl_data[['Month','DayofMonth','DayOfWeek','DepTime','CRSDepTime','FlightNum','Distance']].values\n",
    "y = atl_data['Cancelled'].values\n",
    "\n",
    "X = X.astype(np.float)\n",
    "y = y.astype(np.float).reshape(-1,1)\n",
    "\n",
    "X_train, X_test, y_train, y_test = train_test_split(\n",
    "    X, y, test_size=0.2, random_state=50)\n",
    "\n",
    "print X_train.shape, X_test.shape, y_train.shape, y_test.shape\n",
    "\n",
    "X_train"
   ]
  },
  {
   "cell_type": "code",
   "execution_count": 5,
   "metadata": {
    "collapsed": false
   },
   "outputs": [
    {
     "name": "stdout",
     "output_type": "stream",
     "text": [
      "21088/21380 [============================>.] - ETA: 0sNeural Network Results: \n",
      " Accuracy:  0.999625818522\n",
      "Confusion Matrix: \n",
      "[[21372     0]\n",
      " [    8     0]]\n",
      "\n",
      " Classification Report\n",
      "             precision    recall  f1-score   support\n",
      "\n",
      "        0.0       1.00      1.00      1.00     21372\n",
      "        1.0       0.00      0.00      0.00         8\n",
      "\n",
      "avg / total       1.00      1.00      1.00     21380\n",
      "\n",
      "Loss after final iteration:  0.000374181478017\n"
     ]
    },
    {
     "data": {
      "image/png": "[encoded data removed]",
      "text/plain": [
       "<matplotlib.figure.Figure at 0x14fd7910>"
      ]
     },
     "metadata": {},
     "output_type": "display_data"
    }
   ],
   "source": [
    "#import keras for training\n",
    "from keras.models import Sequential\n",
    "from keras.layers import Dense\n",
    "from keras.regularizers import l2, l1\n",
    "from keras.optimizers import SGD\n",
    "\n",
    "#neural network\n",
    "\n",
    "# Stochastic Logistic Regression\n",
    "model = Sequential()\n",
    "\n",
    "# Model\n",
    "model.add(Dense(output_dim=45, input_shape=[X_train.shape[1]], \n",
    "                activation='relu', W_regularizer=l2(0.01)))\n",
    "model.add(Dense(output_dim=25,\n",
    "                activation='relu', W_regularizer=l2(0.01)))\n",
    "model.add(Dense(output_dim=10,\n",
    "                activation='tanh', W_regularizer=l2(0.01)))\n",
    "model.add(Dense(output_dim=1,\n",
    "                activation='relu', W_regularizer=l2(0.01)))\n",
    "\n",
    "# Compile model\n",
    "sgd = SGD(lr=0.1)\n",
    "model.compile(loss='mean_squared_error', optimizer=sgd)\n",
    "\n",
    "\n",
    "# Fit the model\n",
    "history = model.fit(X_train, y_train, batch_size = 256, \n",
    "                    nb_epoch = 50, verbose=0, validation_data=(X_test,y_test))\n",
    "\n",
    "#initialize plot\n",
    "fig = plt.figure(figsize=(6,4))\n",
    "\n",
    "# # summarize history for loss\n",
    "plt.plot(history.history['loss'])\n",
    "plt.plot(history.history['val_loss'], 'g--')\n",
    "plt.title('Neural Network Model Loss')\n",
    "plt.ylabel('Mean Squared Error (MSE)')\n",
    "plt.xlabel('Epoch')\n",
    "plt.legend(['Training Loss', 'Testing Loss'], loc='upper right')\n",
    "\n",
    "#print classification report and loss model\n",
    "predicted = history.model.predict_classes(X_test)\n",
    "print \"Neural Network Results: \\n Accuracy: \", accuracy_score(y_test,predicted)\n",
    "print \"Confusion Matrix: \"\n",
    "print confusion_matrix(y_test,predicted)\n",
    "print \"\\n Classification Report\"\n",
    "print classification_report(y_test,predicted)\n",
    "print \"Loss after final iteration: \", history.history['val_loss'][-1]\n",
    "plt.show()"
   ]
  },
  {
   "cell_type": "code",
   "execution_count": null,
   "metadata": {
    "collapsed": true
   },
   "outputs": [],
   "source": []
  }
 ],
 "metadata": {
  "anaconda-cloud": {},
  "kernelspec": {
   "display_name": "Python [conda root]",
   "language": "python",
   "name": "conda-root-py"
  },
  "language_info": {
   "codemirror_mode": {
    "name": "ipython",
    "version": 2
   },
   "file_extension": ".py",
   "mimetype": "text/x-python",
   "name": "python",
   "nbconvert_exporter": "python",
   "pygments_lexer": "ipython2",
   "version": "2.7.12"
  }
 },
 "nbformat": 4,
 "nbformat_minor": 1
}
